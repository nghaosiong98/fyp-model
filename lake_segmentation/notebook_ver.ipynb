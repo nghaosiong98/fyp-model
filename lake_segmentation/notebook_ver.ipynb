{
  "nbformat": 4,
  "nbformat_minor": 0,
  "metadata": {
    "kernelspec": {
      "display_name": "Python 3",
      "language": "python",
      "name": "python3"
    },
    "language_info": {
      "codemirror_mode": {
        "name": "ipython",
        "version": 3
      },
      "file_extension": ".py",
      "mimetype": "text/x-python",
      "name": "python",
      "nbconvert_exporter": "python",
      "pygments_lexer": "ipython3",
      "version": "3.7.7"
    },
    "colab": {
      "name": "Copy of water_seg.ipynb",
      "provenance": [],
      "collapsed_sections": [
        "fbTGS9le4_xQ",
        "tDWarL3d9Rag"
      ]
    }
  },
  "cells": [
    {
      "source": [
        "*Please notebook is written to run on Google Colab.*"
      ],
      "cell_type": "markdown",
      "metadata": {}
    },
    {
      "source": [
        "# Install detectron2"
      ],
      "cell_type": "markdown",
      "metadata": {
        "id": "fbTGS9le4_xQ"
      }
    },
    {
      "cell_type": "code",
      "metadata": {
        "id": "tAG-mdvk5FFZ"
      },
      "source": [
        "# install dependencies: \n",
        "!pip install pyyaml==5.1\n",
        "import torch, torchvision\n",
        "print(torch.__version__, torch.cuda.is_available())\n",
        "!gcc --version\n",
        "# opencv is pre-installed on colab"
      ],
      "execution_count": null,
      "outputs": []
    },
    {
      "cell_type": "code",
      "metadata": {
        "id": "P0e1hbSV5HzB"
      },
      "source": [
        "# install detectron2: (Colab has CUDA 10.1 + torch 1.7)\n",
        "# See https://detectron2.readthedocs.io/tutorials/install.html for instructions\n",
        "import torch\n",
        "assert torch.__version__.startswith(\"1.7\")\n",
        "!pip install detectron2 -f https://dl.fbaipublicfiles.com/detectron2/wheels/cu101/torch1.7/index.html\n",
        "exit(0)  # After installation, you need to \"restart runtime\" in Colab. This line can also restart runtime"
      ],
      "execution_count": null,
      "outputs": []
    },
    {
      "source": [
        "# Import libraries"
      ],
      "cell_type": "markdown",
      "metadata": {
        "id": "zwO2zO-ZbCbG"
      }
    },
    {
      "cell_type": "code",
      "metadata": {
        "id": "JVokKgh35LcV"
      },
      "source": [
        "import detectron2\n",
        "from detectron2.utils.logger import setup_logger\n",
        "setup_logger()\n",
        "\n",
        "import numpy as np\n",
        "import os, json, cv2, random\n",
        "from google.colab.patches import cv2_imshow\n",
        "\n",
        "from detectron2 import model_zoo\n",
        "from detectron2.engine import DefaultTrainer, DefaultPredictor\n",
        "from detectron2.config import get_cfg\n",
        "from detectron2.data import MetadataCatalog, DatasetCatalog, build_detection_train_loader, DatasetMapper\n",
        "import detectron2.data.transforms as T"
      ],
      "execution_count": null,
      "outputs": []
    },
    {
      "cell_type": "markdown",
      "metadata": {
        "id": "MFohAsgdl-xh"
      },
      "source": [
        "# Connect G Drive"
      ]
    },
    {
      "cell_type": "code",
      "metadata": {
        "id": "lRkk2mXt6572"
      },
      "source": [
        "from google.colab import drive\n",
        "drive.mount('/content/drive')"
      ],
      "execution_count": null,
      "outputs": []
    },
    {
      "cell_type": "markdown",
      "metadata": {
        "id": "hw8Lp6Z8Jx_S"
      },
      "source": [
        "# Paths"
      ]
    },
    {
      "cell_type": "code",
      "metadata": {
        "id": "r-4Vq2RHJ1gI"
      },
      "source": [
        "PROJECT_ROOT=''\n",
        "OUTPUT_DIR=os.path.join(PROJECT_ROOT, 'output')"
      ],
      "execution_count": null,
      "outputs": []
    },
    {
      "cell_type": "markdown",
      "metadata": {
        "id": "BJyJLRbv5O5A"
      },
      "source": [
        "# Prepare dataset"
      ]
    },
    {
      "cell_type": "code",
      "metadata": {
        "id": "LejkbZen3VGz"
      },
      "source": [
        "from detectron2.data.datasets import register_coco_instances\n",
        "for d in [\"train\", \"val\"]:\n",
        "    register_coco_instances(\n",
        "        \"coco_\" + d,\n",
        "        {},\n",
        "        os.path.join(PROJECT_ROOT, \"coco_\" + d, \"annotations.json\"),\n",
        "        os.path.join(PROJECT_ROOT, \"coco_\" + d),\n",
        "    )"
      ],
      "execution_count": null,
      "outputs": []
    },
    {
      "cell_type": "markdown",
      "metadata": {
        "id": "d-arnIne2GBZ"
      },
      "source": [
        "# Model Configuration"
      ]
    },
    {
      "cell_type": "code",
      "metadata": {
        "id": "EYxiirh22Jfv"
      },
      "source": [
        "def setup():\n",
        "    cfg = get_cfg()\n",
        "    cfg.merge_from_file(model_zoo.get_config_file(\"COCO-InstanceSegmentation/mask_rcnn_R_50_FPN_3x.yaml\"))\n",
        "    cfg.DATASETS.TRAIN = (\"coco_train\",)\n",
        "    cfg.DATASETS.TEST = ()\n",
        "    cfg.DATALOADER.NUM_WORKERS = 2\n",
        "    cfg.INPUT.MIN_SIZE_TRAIN = 512\n",
        "    cfg.MODEL.WEIGHTS = model_zoo.get_checkpoint_url(\"COCO-InstanceSegmentation/mask_rcnn_R_50_FPN_3x.yaml\")\n",
        "    cfg.MODEL.ROI_HEADS.NUM_CLASSES = 1\n",
        "    cfg.MODEL.ROI_HEADS.SCORE_THRESH_TEST = 0.5\n",
        "    cfg.SOLVER.IMS_PER_BATCH = 1\n",
        "    cfg.SOLVER.BASE_LR = 0.00025\n",
        "    cfg.SOLVER.MAX_ITER = 3000\n",
        "    cfg.OUTPUT_DIR = OUTPUT_DIR\n",
        "    if torch.cuda.is_available():\n",
        "        cfg.MODEL.DEVICE = \"cuda\"\n",
        "    else:\n",
        "        cfg.MODEL.DEVICE = \"cpu\"\n",
        "    return cfg"
      ],
      "execution_count": null,
      "outputs": []
    },
    {
      "cell_type": "markdown",
      "metadata": {
        "id": "tDWarL3d9Rag"
      },
      "source": [
        "# Data Augmentation"
      ]
    },
    {
      "cell_type": "code",
      "metadata": {
        "id": "yBTFobuk9Qvh"
      },
      "source": [
        "def train_aug(cfg):\n",
        "    augs = [\n",
        "        T.ResizeShortestEdge(short_edge_length=(512, 512), max_size=1333, sample_style='choice'),\n",
        "        T.RandomFlip(),\n",
        "        T.RandomBrightness(intensity_min=0.6, intensity_max=1.2),\n",
        "    ]\n",
        "    return augs"
      ],
      "execution_count": 1,
      "outputs": []
    },
    {
      "cell_type": "markdown",
      "metadata": {
        "id": "_MxEPc6mdcw_"
      },
      "source": [
        "# Trainer\n"
      ]
    },
    {
      "cell_type": "code",
      "metadata": {
        "id": "BBzBCxUc3Krf"
      },
      "source": [
        "class Trainer(DefaultTrainer):\n",
        "    @classmethod\n",
        "    def build_train_loader(cls, cfg):\n",
        "        mapper = DatasetMapper(cfg, is_train=True, augmentations=train_aug(cfg))\n",
        "        return build_detection_train_loader(cfg=cfg, mapper=mapper)"
      ],
      "execution_count": null,
      "outputs": []
    },
    {
      "cell_type": "markdown",
      "metadata": {
        "id": "zOTulLk_848X"
      },
      "source": [
        "# Train model"
      ]
    },
    {
      "cell_type": "code",
      "metadata": {
        "id": "HbZEI-ed3VG7"
      },
      "source": [
        "cfg = setup()\n",
        "os.makedirs(cfg.OUTPUT_DIR, exist_ok=True)\n",
        "trainer = Trainer(cfg)\n",
        "trainer.resume_or_load(resume=False)\n",
        "trainer.train()"
      ],
      "execution_count": null,
      "outputs": []
    },
    {
      "cell_type": "markdown",
      "metadata": {
        "id": "tAVim7ca-Fg5"
      },
      "source": [
        "# Predictor"
      ]
    },
    {
      "cell_type": "markdown",
      "metadata": {
        "id": "7HD7Ss-d7_Pz"
      },
      "source": [
        "# Evaluate"
      ]
    },
    {
      "cell_type": "code",
      "metadata": {
        "id": "BUpvMfXz3VG-"
      },
      "source": [
        "cfg = setup()\n",
        "cfg.MODEL.WEIGHTS = os.path.join(cfg.OUTPUT_DIR, \"model_final.pth\")\n",
        "cfg.MODEL.ROI_HEADS.SCORE_THRESH_TEST = 0.9\n",
        "predictor = DefaultPredictor(cfg)"
      ],
      "execution_count": null,
      "outputs": []
    },
    {
      "cell_type": "code",
      "metadata": {
        "id": "Z2yl0JvwjvYE"
      },
      "source": [
        "from google.colab import files\r\n",
        "\r\n",
        "uploaded = files.upload()"
      ],
      "execution_count": null,
      "outputs": []
    },
    {
      "cell_type": "code",
      "metadata": {
        "id": "ljkJtthyi8NO"
      },
      "source": [
        "for fn in uploaded.keys():\r\n",
        "    nparr = np.frombuffer(uploaded[fn],'u1')    \r\n",
        "    im = cv2.imdecode(nparr, cv2.IMREAD_COLOR)\r\n",
        "    plot1 = plt.figure(1)\r\n",
        "    plt.imshow(im)\r\n",
        "    outputs = predictor(im)\r\n",
        "    mask = np.asarray(outputs['instances'].pred_masks.cpu().numpy()[0], dtype=np.uint8)\r\n",
        "    plot2 = plt.figure(2)\r\n",
        "    plt.imshow(mask)\r\n",
        "    cropped = cv2.bitwise_and(im, im, mask=mask)\r\n",
        "    plot3 = plt.figure(3)\r\n",
        "    plt.imshow(cropped)\r\n",
        "    plt.show()"
      ],
      "execution_count": null,
      "outputs": []
    },
    {
      "cell_type": "markdown",
      "metadata": {
        "id": "IQGhCLMKZ3ao"
      },
      "source": [
        "## AP Score"
      ]
    },
    {
      "cell_type": "code",
      "metadata": {
        "id": "9j_dqp9q3VHC"
      },
      "source": [
        "from detectron2.evaluation import COCOEvaluator, inference_on_dataset\n",
        "from detectron2.data import build_detection_test_loader\n",
        "evaluator = COCOEvaluator(\"coco_val\", cfg, False, output_dir=output_dir)\n",
        "val_loader = build_detection_test_loader(cfg, \"coco_val\")\n",
        "print(inference_on_dataset(trainer.model, val_loader, evaluator))\n",
        "# another equivalent way to evaluate the model is to use `trainer.test`"
      ],
      "execution_count": null,
      "outputs": []
    }
  ]
}